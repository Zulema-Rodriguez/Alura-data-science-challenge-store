{
  "nbformat": 4,
  "nbformat_minor": 0,
  "metadata": {
    "colab": {
      "provenance": []
    },
    "kernelspec": {
      "name": "python3",
      "display_name": "Python 3"
    },
    "language_info": {
      "name": "python"
    }
  },
  "cells": [
    {
      "cell_type": "markdown",
      "source": [
        "### Importación de datos\n",
        "\n"
      ],
      "metadata": {
        "id": "RhEdWd9YUR6H"
      }
    },
    {
      "cell_type": "code",
      "execution_count": null,
      "metadata": {
        "colab": {
          "base_uri": "https://localhost:8080/",
          "height": 206
        },
        "id": "T3EvaeQ_INIL",
        "outputId": "e9c5efe1-82a3-43ab-e8d7-6d01e4fa3514"
      },
      "outputs": [
        {
          "output_type": "execute_result",
          "data": {
            "text/plain": [
              "            Producto Categoría del Producto    Precio  Costo de envío  \\\n",
              "0  Asistente virtual           Electrónicos  164300.0          6900.0   \n",
              "1    Mesa de comedor                Muebles  192300.0          8400.0   \n",
              "2      Juego de mesa               Juguetes  209600.0         15900.0   \n",
              "3         Microondas      Electrodomésticos  757500.0         41000.0   \n",
              "4   Silla de oficina                Muebles  335200.0         20200.0   \n",
              "\n",
              "  Fecha de Compra         Vendedor Lugar de Compra  Calificación  \\\n",
              "0      16/01/2021      Pedro Gomez          Bogotá             4   \n",
              "1      18/05/2022  Beatriz Morales        Medellín             1   \n",
              "2      15/03/2021   Juan Fernandez       Cartagena             1   \n",
              "3      03/05/2022   Juan Fernandez            Cali             4   \n",
              "4      07/11/2020    Maria Alfonso        Medellín             5   \n",
              "\n",
              "       Método de pago  Cantidad de cuotas       lat       lon  \n",
              "0  Tarjeta de crédito                   8   4.60971 -74.08175  \n",
              "1  Tarjeta de crédito                   4   6.25184 -75.56359  \n",
              "2  Tarjeta de crédito                   1  10.39972 -75.51444  \n",
              "3               Nequi                   1   3.43722 -76.52250  \n",
              "4               Nequi                   1   6.25184 -75.56359  "
            ],
            "text/html": [
              "\n",
              "  <div id=\"df-d6716f8f-4eba-40dc-a953-76eb8f4ef3ba\" class=\"colab-df-container\">\n",
              "    <div>\n",
              "<style scoped>\n",
              "    .dataframe tbody tr th:only-of-type {\n",
              "        vertical-align: middle;\n",
              "    }\n",
              "\n",
              "    .dataframe tbody tr th {\n",
              "        vertical-align: top;\n",
              "    }\n",
              "\n",
              "    .dataframe thead th {\n",
              "        text-align: right;\n",
              "    }\n",
              "</style>\n",
              "<table border=\"1\" class=\"dataframe\">\n",
              "  <thead>\n",
              "    <tr style=\"text-align: right;\">\n",
              "      <th></th>\n",
              "      <th>Producto</th>\n",
              "      <th>Categoría del Producto</th>\n",
              "      <th>Precio</th>\n",
              "      <th>Costo de envío</th>\n",
              "      <th>Fecha de Compra</th>\n",
              "      <th>Vendedor</th>\n",
              "      <th>Lugar de Compra</th>\n",
              "      <th>Calificación</th>\n",
              "      <th>Método de pago</th>\n",
              "      <th>Cantidad de cuotas</th>\n",
              "      <th>lat</th>\n",
              "      <th>lon</th>\n",
              "    </tr>\n",
              "  </thead>\n",
              "  <tbody>\n",
              "    <tr>\n",
              "      <th>0</th>\n",
              "      <td>Asistente virtual</td>\n",
              "      <td>Electrónicos</td>\n",
              "      <td>164300.0</td>\n",
              "      <td>6900.0</td>\n",
              "      <td>16/01/2021</td>\n",
              "      <td>Pedro Gomez</td>\n",
              "      <td>Bogotá</td>\n",
              "      <td>4</td>\n",
              "      <td>Tarjeta de crédito</td>\n",
              "      <td>8</td>\n",
              "      <td>4.60971</td>\n",
              "      <td>-74.08175</td>\n",
              "    </tr>\n",
              "    <tr>\n",
              "      <th>1</th>\n",
              "      <td>Mesa de comedor</td>\n",
              "      <td>Muebles</td>\n",
              "      <td>192300.0</td>\n",
              "      <td>8400.0</td>\n",
              "      <td>18/05/2022</td>\n",
              "      <td>Beatriz Morales</td>\n",
              "      <td>Medellín</td>\n",
              "      <td>1</td>\n",
              "      <td>Tarjeta de crédito</td>\n",
              "      <td>4</td>\n",
              "      <td>6.25184</td>\n",
              "      <td>-75.56359</td>\n",
              "    </tr>\n",
              "    <tr>\n",
              "      <th>2</th>\n",
              "      <td>Juego de mesa</td>\n",
              "      <td>Juguetes</td>\n",
              "      <td>209600.0</td>\n",
              "      <td>15900.0</td>\n",
              "      <td>15/03/2021</td>\n",
              "      <td>Juan Fernandez</td>\n",
              "      <td>Cartagena</td>\n",
              "      <td>1</td>\n",
              "      <td>Tarjeta de crédito</td>\n",
              "      <td>1</td>\n",
              "      <td>10.39972</td>\n",
              "      <td>-75.51444</td>\n",
              "    </tr>\n",
              "    <tr>\n",
              "      <th>3</th>\n",
              "      <td>Microondas</td>\n",
              "      <td>Electrodomésticos</td>\n",
              "      <td>757500.0</td>\n",
              "      <td>41000.0</td>\n",
              "      <td>03/05/2022</td>\n",
              "      <td>Juan Fernandez</td>\n",
              "      <td>Cali</td>\n",
              "      <td>4</td>\n",
              "      <td>Nequi</td>\n",
              "      <td>1</td>\n",
              "      <td>3.43722</td>\n",
              "      <td>-76.52250</td>\n",
              "    </tr>\n",
              "    <tr>\n",
              "      <th>4</th>\n",
              "      <td>Silla de oficina</td>\n",
              "      <td>Muebles</td>\n",
              "      <td>335200.0</td>\n",
              "      <td>20200.0</td>\n",
              "      <td>07/11/2020</td>\n",
              "      <td>Maria Alfonso</td>\n",
              "      <td>Medellín</td>\n",
              "      <td>5</td>\n",
              "      <td>Nequi</td>\n",
              "      <td>1</td>\n",
              "      <td>6.25184</td>\n",
              "      <td>-75.56359</td>\n",
              "    </tr>\n",
              "  </tbody>\n",
              "</table>\n",
              "</div>\n",
              "    <div class=\"colab-df-buttons\">\n",
              "\n",
              "  <div class=\"colab-df-container\">\n",
              "    <button class=\"colab-df-convert\" onclick=\"convertToInteractive('df-d6716f8f-4eba-40dc-a953-76eb8f4ef3ba')\"\n",
              "            title=\"Convert this dataframe to an interactive table.\"\n",
              "            style=\"display:none;\">\n",
              "\n",
              "  <svg xmlns=\"http://www.w3.org/2000/svg\" height=\"24px\" viewBox=\"0 -960 960 960\">\n",
              "    <path d=\"M120-120v-720h720v720H120Zm60-500h600v-160H180v160Zm220 220h160v-160H400v160Zm0 220h160v-160H400v160ZM180-400h160v-160H180v160Zm440 0h160v-160H620v160ZM180-180h160v-160H180v160Zm440 0h160v-160H620v160Z\"/>\n",
              "  </svg>\n",
              "    </button>\n",
              "\n",
              "  <style>\n",
              "    .colab-df-container {\n",
              "      display:flex;\n",
              "      gap: 12px;\n",
              "    }\n",
              "\n",
              "    .colab-df-convert {\n",
              "      background-color: #E8F0FE;\n",
              "      border: none;\n",
              "      border-radius: 50%;\n",
              "      cursor: pointer;\n",
              "      display: none;\n",
              "      fill: #1967D2;\n",
              "      height: 32px;\n",
              "      padding: 0 0 0 0;\n",
              "      width: 32px;\n",
              "    }\n",
              "\n",
              "    .colab-df-convert:hover {\n",
              "      background-color: #E2EBFA;\n",
              "      box-shadow: 0px 1px 2px rgba(60, 64, 67, 0.3), 0px 1px 3px 1px rgba(60, 64, 67, 0.15);\n",
              "      fill: #174EA6;\n",
              "    }\n",
              "\n",
              "    .colab-df-buttons div {\n",
              "      margin-bottom: 4px;\n",
              "    }\n",
              "\n",
              "    [theme=dark] .colab-df-convert {\n",
              "      background-color: #3B4455;\n",
              "      fill: #D2E3FC;\n",
              "    }\n",
              "\n",
              "    [theme=dark] .colab-df-convert:hover {\n",
              "      background-color: #434B5C;\n",
              "      box-shadow: 0px 1px 3px 1px rgba(0, 0, 0, 0.15);\n",
              "      filter: drop-shadow(0px 1px 2px rgba(0, 0, 0, 0.3));\n",
              "      fill: #FFFFFF;\n",
              "    }\n",
              "  </style>\n",
              "\n",
              "    <script>\n",
              "      const buttonEl =\n",
              "        document.querySelector('#df-d6716f8f-4eba-40dc-a953-76eb8f4ef3ba button.colab-df-convert');\n",
              "      buttonEl.style.display =\n",
              "        google.colab.kernel.accessAllowed ? 'block' : 'none';\n",
              "\n",
              "      async function convertToInteractive(key) {\n",
              "        const element = document.querySelector('#df-d6716f8f-4eba-40dc-a953-76eb8f4ef3ba');\n",
              "        const dataTable =\n",
              "          await google.colab.kernel.invokeFunction('convertToInteractive',\n",
              "                                                    [key], {});\n",
              "        if (!dataTable) return;\n",
              "\n",
              "        const docLinkHtml = 'Like what you see? Visit the ' +\n",
              "          '<a target=\"_blank\" href=https://colab.research.google.com/notebooks/data_table.ipynb>data table notebook</a>'\n",
              "          + ' to learn more about interactive tables.';\n",
              "        element.innerHTML = '';\n",
              "        dataTable['output_type'] = 'display_data';\n",
              "        await google.colab.output.renderOutput(dataTable, element);\n",
              "        const docLink = document.createElement('div');\n",
              "        docLink.innerHTML = docLinkHtml;\n",
              "        element.appendChild(docLink);\n",
              "      }\n",
              "    </script>\n",
              "  </div>\n",
              "\n",
              "\n",
              "<div id=\"df-9c4378bf-b9bb-4cf8-91bd-20d40cd522f4\">\n",
              "  <button class=\"colab-df-quickchart\" onclick=\"quickchart('df-9c4378bf-b9bb-4cf8-91bd-20d40cd522f4')\"\n",
              "            title=\"Suggest charts\"\n",
              "            style=\"display:none;\">\n",
              "\n",
              "<svg xmlns=\"http://www.w3.org/2000/svg\" height=\"24px\"viewBox=\"0 0 24 24\"\n",
              "     width=\"24px\">\n",
              "    <g>\n",
              "        <path d=\"M19 3H5c-1.1 0-2 .9-2 2v14c0 1.1.9 2 2 2h14c1.1 0 2-.9 2-2V5c0-1.1-.9-2-2-2zM9 17H7v-7h2v7zm4 0h-2V7h2v10zm4 0h-2v-4h2v4z\"/>\n",
              "    </g>\n",
              "</svg>\n",
              "  </button>\n",
              "\n",
              "<style>\n",
              "  .colab-df-quickchart {\n",
              "      --bg-color: #E8F0FE;\n",
              "      --fill-color: #1967D2;\n",
              "      --hover-bg-color: #E2EBFA;\n",
              "      --hover-fill-color: #174EA6;\n",
              "      --disabled-fill-color: #AAA;\n",
              "      --disabled-bg-color: #DDD;\n",
              "  }\n",
              "\n",
              "  [theme=dark] .colab-df-quickchart {\n",
              "      --bg-color: #3B4455;\n",
              "      --fill-color: #D2E3FC;\n",
              "      --hover-bg-color: #434B5C;\n",
              "      --hover-fill-color: #FFFFFF;\n",
              "      --disabled-bg-color: #3B4455;\n",
              "      --disabled-fill-color: #666;\n",
              "  }\n",
              "\n",
              "  .colab-df-quickchart {\n",
              "    background-color: var(--bg-color);\n",
              "    border: none;\n",
              "    border-radius: 50%;\n",
              "    cursor: pointer;\n",
              "    display: none;\n",
              "    fill: var(--fill-color);\n",
              "    height: 32px;\n",
              "    padding: 0;\n",
              "    width: 32px;\n",
              "  }\n",
              "\n",
              "  .colab-df-quickchart:hover {\n",
              "    background-color: var(--hover-bg-color);\n",
              "    box-shadow: 0 1px 2px rgba(60, 64, 67, 0.3), 0 1px 3px 1px rgba(60, 64, 67, 0.15);\n",
              "    fill: var(--button-hover-fill-color);\n",
              "  }\n",
              "\n",
              "  .colab-df-quickchart-complete:disabled,\n",
              "  .colab-df-quickchart-complete:disabled:hover {\n",
              "    background-color: var(--disabled-bg-color);\n",
              "    fill: var(--disabled-fill-color);\n",
              "    box-shadow: none;\n",
              "  }\n",
              "\n",
              "  .colab-df-spinner {\n",
              "    border: 2px solid var(--fill-color);\n",
              "    border-color: transparent;\n",
              "    border-bottom-color: var(--fill-color);\n",
              "    animation:\n",
              "      spin 1s steps(1) infinite;\n",
              "  }\n",
              "\n",
              "  @keyframes spin {\n",
              "    0% {\n",
              "      border-color: transparent;\n",
              "      border-bottom-color: var(--fill-color);\n",
              "      border-left-color: var(--fill-color);\n",
              "    }\n",
              "    20% {\n",
              "      border-color: transparent;\n",
              "      border-left-color: var(--fill-color);\n",
              "      border-top-color: var(--fill-color);\n",
              "    }\n",
              "    30% {\n",
              "      border-color: transparent;\n",
              "      border-left-color: var(--fill-color);\n",
              "      border-top-color: var(--fill-color);\n",
              "      border-right-color: var(--fill-color);\n",
              "    }\n",
              "    40% {\n",
              "      border-color: transparent;\n",
              "      border-right-color: var(--fill-color);\n",
              "      border-top-color: var(--fill-color);\n",
              "    }\n",
              "    60% {\n",
              "      border-color: transparent;\n",
              "      border-right-color: var(--fill-color);\n",
              "    }\n",
              "    80% {\n",
              "      border-color: transparent;\n",
              "      border-right-color: var(--fill-color);\n",
              "      border-bottom-color: var(--fill-color);\n",
              "    }\n",
              "    90% {\n",
              "      border-color: transparent;\n",
              "      border-bottom-color: var(--fill-color);\n",
              "    }\n",
              "  }\n",
              "</style>\n",
              "\n",
              "  <script>\n",
              "    async function quickchart(key) {\n",
              "      const quickchartButtonEl =\n",
              "        document.querySelector('#' + key + ' button');\n",
              "      quickchartButtonEl.disabled = true;  // To prevent multiple clicks.\n",
              "      quickchartButtonEl.classList.add('colab-df-spinner');\n",
              "      try {\n",
              "        const charts = await google.colab.kernel.invokeFunction(\n",
              "            'suggestCharts', [key], {});\n",
              "      } catch (error) {\n",
              "        console.error('Error during call to suggestCharts:', error);\n",
              "      }\n",
              "      quickchartButtonEl.classList.remove('colab-df-spinner');\n",
              "      quickchartButtonEl.classList.add('colab-df-quickchart-complete');\n",
              "    }\n",
              "    (() => {\n",
              "      let quickchartButtonEl =\n",
              "        document.querySelector('#df-9c4378bf-b9bb-4cf8-91bd-20d40cd522f4 button');\n",
              "      quickchartButtonEl.style.display =\n",
              "        google.colab.kernel.accessAllowed ? 'block' : 'none';\n",
              "    })();\n",
              "  </script>\n",
              "</div>\n",
              "\n",
              "    </div>\n",
              "  </div>\n"
            ],
            "application/vnd.google.colaboratory.intrinsic+json": {
              "type": "dataframe",
              "variable_name": "tienda",
              "summary": "{\n  \"name\": \"tienda\",\n  \"rows\": 2359,\n  \"fields\": [\n    {\n      \"column\": \"Producto\",\n      \"properties\": {\n        \"dtype\": \"category\",\n        \"num_unique_values\": 51,\n        \"samples\": [\n          \"Guitarra ac\\u00fastica\",\n          \"Bal\\u00f3n de baloncesto\",\n          \"Smartwatch\"\n        ],\n        \"semantic_type\": \"\",\n        \"description\": \"\"\n      }\n    },\n    {\n      \"column\": \"Categor\\u00eda del Producto\",\n      \"properties\": {\n        \"dtype\": \"category\",\n        \"num_unique_values\": 8,\n        \"samples\": [\n          \"Muebles\",\n          \"Deportes y diversi\\u00f3n\",\n          \"Electr\\u00f3nicos\"\n        ],\n        \"semantic_type\": \"\",\n        \"description\": \"\"\n      }\n    },\n    {\n      \"column\": \"Precio\",\n      \"properties\": {\n        \"dtype\": \"number\",\n        \"std\": 614686.7653873172,\n        \"min\": 7600.0,\n        \"max\": 2977000.0,\n        \"num_unique_values\": 1937,\n        \"samples\": [\n          2499400.0,\n          14800.0,\n          80500.0\n        ],\n        \"semantic_type\": \"\",\n        \"description\": \"\"\n      }\n    },\n    {\n      \"column\": \"Costo de env\\u00edo\",\n      \"properties\": {\n        \"dtype\": \"number\",\n        \"std\": 32860.0017825605,\n        \"min\": 0.0,\n        \"max\": 160800.0,\n        \"num_unique_values\": 753,\n        \"samples\": [\n          117800.0,\n          54700.0,\n          45600.0\n        ],\n        \"semantic_type\": \"\",\n        \"description\": \"\"\n      }\n    },\n    {\n      \"column\": \"Fecha de Compra\",\n      \"properties\": {\n        \"dtype\": \"object\",\n        \"num_unique_values\": 1018,\n        \"samples\": [\n          \"15/09/2022\",\n          \"03/06/2020\",\n          \"06/11/2021\"\n        ],\n        \"semantic_type\": \"\",\n        \"description\": \"\"\n      }\n    },\n    {\n      \"column\": \"Vendedor\",\n      \"properties\": {\n        \"dtype\": \"category\",\n        \"num_unique_values\": 14,\n        \"samples\": [\n          \"Juliana Costa\",\n          \"Mariana Herrera\",\n          \"Pedro Gomez\"\n        ],\n        \"semantic_type\": \"\",\n        \"description\": \"\"\n      }\n    },\n    {\n      \"column\": \"Lugar de Compra\",\n      \"properties\": {\n        \"dtype\": \"category\",\n        \"num_unique_values\": 19,\n        \"samples\": [\n          \"Bogot\\u00e1\",\n          \"Pereira\",\n          \"Neiva\"\n        ],\n        \"semantic_type\": \"\",\n        \"description\": \"\"\n      }\n    },\n    {\n      \"column\": \"Calificaci\\u00f3n\",\n      \"properties\": {\n        \"dtype\": \"number\",\n        \"std\": 1,\n        \"min\": 1,\n        \"max\": 5,\n        \"num_unique_values\": 5,\n        \"samples\": [\n          1,\n          2,\n          5\n        ],\n        \"semantic_type\": \"\",\n        \"description\": \"\"\n      }\n    },\n    {\n      \"column\": \"M\\u00e9todo de pago\",\n      \"properties\": {\n        \"dtype\": \"category\",\n        \"num_unique_values\": 4,\n        \"samples\": [\n          \"Nequi\",\n          \"Tarjeta de d\\u00e9bito\",\n          \"Tarjeta de cr\\u00e9dito\"\n        ],\n        \"semantic_type\": \"\",\n        \"description\": \"\"\n      }\n    },\n    {\n      \"column\": \"Cantidad de cuotas\",\n      \"properties\": {\n        \"dtype\": \"number\",\n        \"std\": 2,\n        \"min\": 1,\n        \"max\": 24,\n        \"num_unique_values\": 15,\n        \"samples\": [\n          7,\n          14,\n          8\n        ],\n        \"semantic_type\": \"\",\n        \"description\": \"\"\n      }\n    },\n    {\n      \"column\": \"lat\",\n      \"properties\": {\n        \"dtype\": \"number\",\n        \"std\": 2.2874452492678627,\n        \"min\": -4.21528,\n        \"max\": 11.54444,\n        \"num_unique_values\": 19,\n        \"samples\": [\n          4.60971,\n          4.81333,\n          2.9273\n        ],\n        \"semantic_type\": \"\",\n        \"description\": \"\"\n      }\n    },\n    {\n      \"column\": \"lon\",\n      \"properties\": {\n        \"dtype\": \"number\",\n        \"std\": 1.2178272727088486,\n        \"min\": -77.28111,\n        \"max\": -67.9239,\n        \"num_unique_values\": 19,\n        \"samples\": [\n          -74.08175,\n          -75.69611,\n          -75.28189\n        ],\n        \"semantic_type\": \"\",\n        \"description\": \"\"\n      }\n    }\n  ]\n}"
            }
          },
          "metadata": {},
          "execution_count": 2
        }
      ],
      "source": [
        "import pandas as pd\n",
        "\n",
        "url = \"https://raw.githubusercontent.com/alura-es-cursos/challenge1-data-science-latam/refs/heads/main/base-de-datos-challenge1-latam/tienda_1%20.csv\"\n",
        "url2 = \"https://raw.githubusercontent.com/alura-es-cursos/challenge1-data-science-latam/refs/heads/main/base-de-datos-challenge1-latam/tienda_2.csv\"\n",
        "url3 = \"https://raw.githubusercontent.com/alura-es-cursos/challenge1-data-science-latam/refs/heads/main/base-de-datos-challenge1-latam/tienda_3.csv\"\n",
        "url4 = \"https://raw.githubusercontent.com/alura-es-cursos/challenge1-data-science-latam/refs/heads/main/base-de-datos-challenge1-latam/tienda_4.csv\"\n",
        "\n",
        "tienda = pd.read_csv(url)\n",
        "tienda2 = pd.read_csv(url2)\n",
        "tienda3 = pd.read_csv(url3)\n",
        "tienda4 = pd.read_csv(url4)\n",
        "\n",
        "tienda.head()"
      ]
    },
    {
      "cell_type": "markdown",
      "source": [
        "#1. Análisis de facturación\n",
        "\n"
      ],
      "metadata": {
        "id": "X62IW3KFUIYm"
      }
    },
    {
      "cell_type": "code",
      "source": [
        "import pandas as pd"
      ],
      "metadata": {
        "id": "xykobSftV64I"
      },
      "execution_count": null,
      "outputs": []
    },
    {
      "cell_type": "code",
      "source": [
        "import matplotlib.pyplot as plt\n",
        "import seaborn as sns\n"
      ],
      "metadata": {
        "id": "RhMMuZL3RHat"
      },
      "execution_count": null,
      "outputs": []
    },
    {
      "cell_type": "code",
      "source": [
        "def calcular_facturacion_tienda01():\n",
        "  df = pd.read_csv(\"https://raw.githubusercontent.com/alura-es-cursos/challenge1-data-science-latam/refs/heads/main/base-de-datos-challenge1-latam/tienda_1%20.csv\")\n",
        "  facturacion_total = df[\"Precio\"] + df [\"Costo de envío\"]\n",
        "  total = facturacion_total.sum()\n",
        "  return total\n",
        "\n",
        "\n",
        "\n"
      ],
      "metadata": {
        "id": "KDyr8E71V3m-"
      },
      "execution_count": null,
      "outputs": []
    },
    {
      "cell_type": "code",
      "source": [
        "print(calcular_facturacion_tienda01())"
      ],
      "metadata": {
        "colab": {
          "base_uri": "https://localhost:8080/"
        },
        "id": "YoR1B-Mi322j",
        "outputId": "3a67efbd-108f-4f21-c266-6ea4113d993d"
      },
      "execution_count": null,
      "outputs": [
        {
          "output_type": "stream",
          "name": "stdout",
          "text": [
            "1212258300.0\n"
          ]
        }
      ]
    },
    {
      "cell_type": "code",
      "source": [
        "def calcular_facturacion_tienda02():\n",
        "  df = pd.read_csv(\"https://raw.githubusercontent.com/alura-es-cursos/challenge1-data-science-latam/refs/heads/main/base-de-datos-challenge1-latam/tienda_2.csv\")\n",
        "  facturacion_total = df[\"Precio\"] + df [\"Costo de envío\"]\n",
        "  total = facturacion_total.sum()\n",
        "  return total"
      ],
      "metadata": {
        "id": "a0KASI2-4ORw"
      },
      "execution_count": null,
      "outputs": []
    },
    {
      "cell_type": "code",
      "source": [
        "print(calcular_facturacion_tienda02())"
      ],
      "metadata": {
        "colab": {
          "base_uri": "https://localhost:8080/"
        },
        "id": "akYAh5QUxMpn",
        "outputId": "2347d943-b699-4609-a577-47a854e862ae"
      },
      "execution_count": null,
      "outputs": [
        {
          "output_type": "stream",
          "name": "stdout",
          "text": [
            "1175828600.0\n"
          ]
        }
      ]
    },
    {
      "cell_type": "code",
      "source": [
        "def calcular_facturacion_tienda03():\n",
        "  df = pd.read_csv(\"https://raw.githubusercontent.com/alura-es-cursos/challenge1-data-science-latam/refs/heads/main/base-de-datos-challenge1-latam/tienda_3.csv\")\n",
        "  facturacion_total = df[\"Precio\"] + df [\"Costo de envío\"]\n",
        "  total = facturacion_total.sum()\n",
        "  return total"
      ],
      "metadata": {
        "id": "59RL823vxNgJ"
      },
      "execution_count": null,
      "outputs": []
    },
    {
      "cell_type": "code",
      "source": [
        "print(calcular_facturacion_tienda03())"
      ],
      "metadata": {
        "colab": {
          "base_uri": "https://localhost:8080/"
        },
        "id": "vfOMI8i_xNv0",
        "outputId": "94fadbfa-d02b-4a42-e37c-737b47695189"
      },
      "execution_count": null,
      "outputs": [
        {
          "output_type": "stream",
          "name": "stdout",
          "text": [
            "1156536200.0\n"
          ]
        }
      ]
    },
    {
      "cell_type": "code",
      "source": [
        "def calcular_facturacion_tienda04():\n",
        "  df = pd.read_csv(\"https://raw.githubusercontent.com/alura-es-cursos/challenge1-data-science-latam/refs/heads/main/base-de-datos-challenge1-latam/tienda_4.csv\")\n",
        "  facturacion_total = df[\"Precio\"] + df [\"Costo de envío\"]\n",
        "  total = facturacion_total.sum()\n",
        "  return total"
      ],
      "metadata": {
        "id": "gC0XgGt2xN88"
      },
      "execution_count": null,
      "outputs": []
    },
    {
      "cell_type": "code",
      "source": [
        "print(calcular_facturacion_tienda04())"
      ],
      "metadata": {
        "colab": {
          "base_uri": "https://localhost:8080/"
        },
        "id": "0zEzGGM_xOH1",
        "outputId": "501782e3-fadc-44ff-9ced-2b1320d961bd"
      },
      "execution_count": null,
      "outputs": [
        {
          "output_type": "stream",
          "name": "stdout",
          "text": [
            "1093693100.0\n"
          ]
        }
      ]
    },
    {
      "cell_type": "code",
      "source": [
        "def tienda_mas_factura():\n",
        "  total01 = calcular_facturacion_tienda01()\n",
        "  total02 = calcular_facturacion_tienda02()\n",
        "  total03 = calcular_facturacion_tienda03()\n",
        "  total04 = calcular_facturacion_tienda04()\n",
        "\n",
        "  facturaciones = {\n",
        "      \"Tienda 01\": total01,\n",
        "      \"Tienda 02\": total02,\n",
        "      \"Tienda 03\": total03,\n",
        "      \"Tienda 04\": total04\n",
        "  }\n",
        "\n",
        "  tienda_max = max(facturaciones,key=facturaciones.get)\n",
        "  return f\"La tienda más rentable es {tienda_max} con una facturación de {facturaciones[tienda_max]:,.2f}\""
      ],
      "metadata": {
        "id": "KPvDgm7V-U7d"
      },
      "execution_count": null,
      "outputs": []
    },
    {
      "cell_type": "code",
      "source": [
        "print(tienda_mas_factura())"
      ],
      "metadata": {
        "colab": {
          "base_uri": "https://localhost:8080/"
        },
        "id": "4H54eolO-VKl",
        "outputId": "6b42356a-e507-46c7-aaf8-09f1c2decf24"
      },
      "execution_count": null,
      "outputs": [
        {
          "output_type": "stream",
          "name": "stdout",
          "text": [
            "La tienda más rentable es Tienda 01 con una facturación de 1,212,258,300.00\n"
          ]
        }
      ]
    },
    {
      "cell_type": "code",
      "source": [
        "def tienda_menos_factura():\n",
        "  total01 = calcular_facturacion_tienda01()\n",
        "  total02 = calcular_facturacion_tienda02()\n",
        "  total03 = calcular_facturacion_tienda03()\n",
        "  total04 = calcular_facturacion_tienda04()\n",
        "\n",
        "  facturaciones = {\n",
        "      \"Tienda 01\": total01,\n",
        "      \"Tienda 02\": total02,\n",
        "      \"Tienda 03\": total03,\n",
        "      \"Tienda 04\": total04\n",
        "  }\n",
        "\n",
        "  tienda_min = min(facturaciones, key=facturaciones.get)\n",
        "  return f\"La tienda con menor facturación es {tienda_min} con un total de {facturaciones[tienda_min]:,.2f}\""
      ],
      "metadata": {
        "id": "4RyvvKPeL_S9"
      },
      "execution_count": null,
      "outputs": []
    },
    {
      "cell_type": "code",
      "source": [
        "print(tienda_menos_factura())"
      ],
      "metadata": {
        "colab": {
          "base_uri": "https://localhost:8080/"
        },
        "id": "DMQRn314Mqvk",
        "outputId": "2479861a-8431-4ea4-fe96-1fb9a288670f"
      },
      "execution_count": null,
      "outputs": [
        {
          "output_type": "stream",
          "name": "stdout",
          "text": [
            "La tienda con menor facturación es Tienda 04 con un total de 1,093,693,100.00\n"
          ]
        }
      ]
    },
    {
      "cell_type": "markdown",
      "source": [
        "# 2. Ventas por categoría"
      ],
      "metadata": {
        "id": "2V_vcAPzWZmR"
      }
    },
    {
      "cell_type": "code",
      "source": [
        "def categoria_mas_vendida_tienda01():\n",
        "  url = \"https://raw.githubusercontent.com/alura-es-cursos/challenge1-data-science-latam/refs/heads/main/base-de-datos-challenge1-latam/tienda_1%20.csv\"\n",
        "  df = pd.read_csv(\"https://raw.githubusercontent.com/alura-es-cursos/challenge1-data-science-latam/refs/heads/main/base-de-datos-challenge1-latam/tienda_1%20.csv\")\n",
        "  contar_categorias =  df[\"Categoría del Producto\"].value_counts()\n",
        "  categoria_mas_vendida = contar_categorias.idxmax()\n",
        "  cantidad = contar_categorias.max()\n",
        "\n",
        "  return f\"La categoría más vendida en Tienda 01 es '{categoria_mas_vendida}' con {cantidad} ventas.\""
      ],
      "metadata": {
        "id": "A34YupIuYhfF"
      },
      "execution_count": null,
      "outputs": []
    },
    {
      "cell_type": "code",
      "source": [
        "print(categoria_mas_vendida_tienda01())"
      ],
      "metadata": {
        "id": "yZR6cOjXYSk1",
        "colab": {
          "base_uri": "https://localhost:8080/"
        },
        "outputId": "d56cb26f-faa9-4902-afc3-087271d457c9"
      },
      "execution_count": null,
      "outputs": [
        {
          "output_type": "stream",
          "name": "stdout",
          "text": [
            "La categoría más vendida en Tienda 01 es 'Muebles' con 465 ventas.\n"
          ]
        }
      ]
    },
    {
      "cell_type": "code",
      "source": [
        "def categoria_mas_vendida_tienda02():\n",
        "  url = \"https://raw.githubusercontent.com/alura-es-cursos/challenge1-data-science-latam/refs/heads/main/base-de-datos-challenge1-latam/tienda_2.csv\"\n",
        "  df = pd.read_csv(\"https://raw.githubusercontent.com/alura-es-cursos/challenge1-data-science-latam/refs/heads/main/base-de-datos-challenge1-latam/tienda_2.csv\")\n",
        "  contar_categorias =  df[\"Categoría del Producto\"].value_counts()\n",
        "  categoria_mas_vendida = contar_categorias.idxmax()\n",
        "  cantidad = contar_categorias.max()\n",
        "\n",
        "  return f\"La categoría más vendida en Tienda 02 es '{categoria_mas_vendida}' con {cantidad} ventas.\""
      ],
      "metadata": {
        "id": "xE4t2teJ3yci"
      },
      "execution_count": null,
      "outputs": []
    },
    {
      "cell_type": "code",
      "source": [
        "print(categoria_mas_vendida_tienda02())"
      ],
      "metadata": {
        "colab": {
          "base_uri": "https://localhost:8080/"
        },
        "id": "2dOUGAIM3zxq",
        "outputId": "865f5c30-27db-43c2-b3d7-cd269cac6e38"
      },
      "execution_count": null,
      "outputs": [
        {
          "output_type": "stream",
          "name": "stdout",
          "text": [
            "La categoría más vendida en Tienda 02 es 'Muebles' con 442 ventas.\n"
          ]
        }
      ]
    },
    {
      "cell_type": "code",
      "source": [
        "def categoria_mas_vendida_tienda03():\n",
        "  url = \"https://raw.githubusercontent.com/alura-es-cursos/challenge1-data-science-latam/refs/heads/main/base-de-datos-challenge1-latam/tienda_3.csv\"\n",
        "  df = pd.read_csv(\"https://raw.githubusercontent.com/alura-es-cursos/challenge1-data-science-latam/refs/heads/main/base-de-datos-challenge1-latam/tienda_3.csv\")\n",
        "  contar_categorias =  df[\"Categoría del Producto\"].value_counts()\n",
        "  categoria_mas_vendida = contar_categorias.idxmax()\n",
        "  cantidad = contar_categorias.max()\n",
        "\n",
        "  return f\"La categoría más vendida en Tienda 03 es '{categoria_mas_vendida}' con {cantidad} ventas.\""
      ],
      "metadata": {
        "id": "feQm_TLv30YH"
      },
      "execution_count": null,
      "outputs": []
    },
    {
      "cell_type": "code",
      "source": [
        "print(categoria_mas_vendida_tienda03())"
      ],
      "metadata": {
        "colab": {
          "base_uri": "https://localhost:8080/"
        },
        "id": "76D2CVii32M2",
        "outputId": "897f3a9a-c3fe-4fab-9287-8722475c6ebd"
      },
      "execution_count": null,
      "outputs": [
        {
          "output_type": "stream",
          "name": "stdout",
          "text": [
            "La categoría más vendida en Tienda 03 es 'Muebles' con 499 ventas.\n"
          ]
        }
      ]
    },
    {
      "cell_type": "code",
      "source": [
        "def categoria_mas_vendida_tienda04():\n",
        "  url = \"https://raw.githubusercontent.com/alura-es-cursos/challenge1-data-science-latam/refs/heads/main/base-de-datos-challenge1-latam/tienda_4.csv\"\n",
        "  df = pd.read_csv(\"https://raw.githubusercontent.com/alura-es-cursos/challenge1-data-science-latam/refs/heads/main/base-de-datos-challenge1-latam/tienda_4.csv\")\n",
        "  contar_categorias =  df[\"Categoría del Producto\"].value_counts()\n",
        "  categoria_mas_vendida = contar_categorias.idxmax()\n",
        "  cantidad = contar_categorias.max()\n",
        "\n",
        "  return f\"La categoría más vendida en Tienda 04 es '{categoria_mas_vendida}' con {cantidad} ventas.\""
      ],
      "metadata": {
        "id": "HAyLBo5Y32_X"
      },
      "execution_count": null,
      "outputs": []
    },
    {
      "cell_type": "code",
      "source": [
        "print(categoria_mas_vendida_tienda04())"
      ],
      "metadata": {
        "colab": {
          "base_uri": "https://localhost:8080/"
        },
        "id": "8uwTulS733XE",
        "outputId": "11f33fc8-b791-44b6-ce6b-943d97731762"
      },
      "execution_count": null,
      "outputs": [
        {
          "output_type": "stream",
          "name": "stdout",
          "text": [
            "La categoría más vendida en Tienda 04 es 'Muebles' con 480 ventas.\n"
          ]
        }
      ]
    },
    {
      "cell_type": "code",
      "source": [
        "def tienda_mas_muebles():\n",
        "  url0l = \"https://raw.githubusercontent.com/alura-es-cursos/challenge1-data-science-latam/refs/heads/main/base-de-datos-challenge1-latam/tienda_1%20.csv\"\n",
        "  url02 = \"https://raw.githubusercontent.com/alura-es-cursos/challenge1-data-science-latam/refs/heads/main/base-de-datos-challenge1-latam/tienda_2.csv\"\n",
        "  url03 = \"https://raw.githubusercontent.com/alura-es-cursos/challenge1-data-science-latam/refs/heads/main/base-de-datos-challenge1-latam/tienda_3.csv\"\n",
        "  url04 = \"https://raw.githubusercontent.com/alura-es-cursos/challenge1-data-science-latam/refs/heads/main/base-de-datos-challenge1-latam/tienda_4.csv\"\n",
        "\n",
        "  df01 = pd.read_csv(\"https://raw.githubusercontent.com/alura-es-cursos/challenge1-data-science-latam/refs/heads/main/base-de-datos-challenge1-latam/tienda_1%20.csv\")\n",
        "  df02 = pd.read_csv(\"https://raw.githubusercontent.com/alura-es-cursos/challenge1-data-science-latam/refs/heads/main/base-de-datos-challenge1-latam/tienda_2.csv\")\n",
        "  df03 = pd.read_csv(\"https://raw.githubusercontent.com/alura-es-cursos/challenge1-data-science-latam/refs/heads/main/base-de-datos-challenge1-latam/tienda_3.csv\")\n",
        "  df04 = pd.read_csv(\"https://raw.githubusercontent.com/alura-es-cursos/challenge1-data-science-latam/refs/heads/main/base-de-datos-challenge1-latam/tienda_4.csv\")\n",
        "\n",
        "  conteos = {\n",
        "      \"Tienda 01\": df01[df01[\"Categoría del Producto\"] == \"Muebles\"].shape[0],\n",
        "      \"Tienda 02\": df02[df02[\"Categoría del Producto\"] == \"Muebles\"].shape[0],\n",
        "      \"Tienda 03\": df03[df03[\"Categoría del Producto\"] == \"Muebles\"].shape[0],\n",
        "      \"Tienda 04\": df04[df04[\"Categoría del Producto\"] == \"Muebles\"].shape[0],\n",
        "  }\n",
        "\n",
        "  tienda_max = max(conteos, key=conteos.get)\n",
        "  cantidad_max = conteos[tienda_max]\n",
        "\n",
        "  return f\"La tienda que más vendió muebles es {tienda_max}, con {cantidad_max} ventas.\"\n"
      ],
      "metadata": {
        "id": "ocEDELMF33-n"
      },
      "execution_count": null,
      "outputs": []
    },
    {
      "cell_type": "code",
      "source": [
        "print(tienda_mas_muebles())"
      ],
      "metadata": {
        "colab": {
          "base_uri": "https://localhost:8080/"
        },
        "id": "R2baH_kH34a_",
        "outputId": "319017ea-77b6-4b13-8a68-e485ebb470eb"
      },
      "execution_count": null,
      "outputs": [
        {
          "output_type": "stream",
          "name": "stdout",
          "text": [
            "La tienda que más vendió muebles es Tienda 03, con 499 ventas.\n"
          ]
        }
      ]
    },
    {
      "cell_type": "code",
      "source": [
        "import pandas as pd\n",
        "import matplotlib.pyplot as plt\n",
        "import seaborn as sns\n",
        "%matplotlib inline"
      ],
      "metadata": {
        "id": "mW5MHaATT7zC"
      },
      "execution_count": null,
      "outputs": []
    },
    {
      "cell_type": "code",
      "source": [
        "def grafico_muebles_por_tienda():\n",
        "  url0l = \"https://raw.githubusercontent.com/alura-es-cursos/challenge1-data-science-latam/refs/heads/main/base-de-datos-challenge1-latam/tienda_1%20.csv\"\n",
        "  url02 = \"https://raw.githubusercontent.com/alura-es-cursos/challenge1-data-science-latam/refs/heads/main/base-de-datos-challenge1-latam/tienda_2.csv\"\n",
        "  url03 = \"https://raw.githubusercontent.com/alura-es-cursos/challenge1-data-science-latam/refs/heads/main/base-de-datos-challenge1-latam/tienda_3.csv\"\n",
        "  url04 = \"https://raw.githubusercontent.com/alura-es-cursos/challenge1-data-science-latam/refs/heads/main/base-de-datos-challenge1-latam/tienda_4.csv\"\n",
        "\n",
        "  df01 = pd.read_csv(\"https://raw.githubusercontent.com/alura-es-cursos/challenge1-data-science-latam/refs/heads/main/base-de-datos-challenge1-latam/tienda_1%20.csv\")\n",
        "  df02 = pd.read_csv(\"https://raw.githubusercontent.com/alura-es-cursos/challenge1-data-science-latam/refs/heads/main/base-de-datos-challenge1-latam/tienda_2.csv\")\n",
        "  df03 = pd.read_csv(\"https://raw.githubusercontent.com/alura-es-cursos/challenge1-data-science-latam/refs/heads/main/base-de-datos-challenge1-latam/tienda_3.csv\")\n",
        "  df04 = pd.read_csv(\"https://raw.githubusercontent.com/alura-es-cursos/challenge1-data-science-latam/refs/heads/main/base-de-datos-challenge1-latam/tienda_4.csv\")\n",
        "\n",
        "\n",
        "  tiendas = [\"Tienda 01\", \"Tienda 02\", \"Tienda 03\", \"Tienda 04\"]\n",
        "  ventas = [\n",
        "      df01[df01[\"Categoría del Producto\"] == \"Muebles\"].shape[0],\n",
        "      df02[df02[\"Categoría del Producto\"] == \"Muebles\"].shape[0],\n",
        "      df03[df03[\"Categoría del Producto\"] == \"Muebles\"].shape[0],\n",
        "      df04[df04[\"Categoría del Producto\"] == \"Muebles\"].shape[0],\n",
        "  ]\n",
        "\n",
        "  plt.figure(figsize=(8,5))\n",
        "  sns.barplot(x=tiendas, y=ventas, palette=\"Oranges_r\")\n",
        "  plt.title(\"Ventas de Muebles por Tienda\")\n",
        "  plt.ylabel(\"Cantidad de ventas\")\n",
        "  plt.xlabel(\"Tiendas\")\n",
        "  plt.show()"
      ],
      "metadata": {
        "id": "SSrj9FZ0Rd3p"
      },
      "execution_count": null,
      "outputs": []
    },
    {
      "cell_type": "code",
      "source": [
        "grafico_muebles_por_tienda()"
      ],
      "metadata": {
        "colab": {
          "base_uri": "https://localhost:8080/",
          "height": 594
        },
        "id": "3fM96gdmS2T-",
        "outputId": "1a607b75-823b-405e-8e34-89d43e379fcb"
      },
      "execution_count": null,
      "outputs": [
        {
          "output_type": "stream",
          "name": "stderr",
          "text": [
            "<ipython-input-27-847a2e04cb67>:22: FutureWarning: \n",
            "\n",
            "Passing `palette` without assigning `hue` is deprecated and will be removed in v0.14.0. Assign the `x` variable to `hue` and set `legend=False` for the same effect.\n",
            "\n",
            "  sns.barplot(x=tiendas, y=ventas, palette=\"Oranges_r\")\n"
          ]
        },
        {
          "output_type": "display_data",
          "data": {
            "text/plain": [
              "<Figure size 800x500 with 1 Axes>"
            ],
            "image/png": "[encoded data removed]"
          },
          "metadata": {}
        }
      ]
    },
    {
      "cell_type": "markdown",
      "source": [
        "# 3. Calificación promedio de la tienda\n"
      ],
      "metadata": {
        "id": "Rq6tU_xSY3jk"
      }
    },
    {
      "cell_type": "code",
      "source": [
        "def promedio_calificacion_tienda01():\n",
        "  url = \"https://raw.githubusercontent.com/alura-es-cursos/challenge1-data-science-latam/refs/heads/main/base-de-datos-challenge1-latam/tienda_1%20.csv\"\n",
        "  df = pd.read_csv(\"https://raw.githubusercontent.com/alura-es-cursos/challenge1-data-science-latam/refs/heads/main/base-de-datos-challenge1-latam/tienda_1%20.csv\")\n",
        "\n",
        "  promedio = df[\"Calificación\"].mean()\n",
        "\n",
        "  return f\"El promedio de calificación en Tienda 01 es de {promedio:.2f} puntos.\""
      ],
      "metadata": {
        "id": "bh3jjjJwY5MU"
      },
      "execution_count": null,
      "outputs": []
    },
    {
      "cell_type": "code",
      "source": [
        "print(promedio_calificacion_tienda01())"
      ],
      "metadata": {
        "id": "I0KkjPoTY88F",
        "colab": {
          "base_uri": "https://localhost:8080/"
        },
        "outputId": "8271bdae-4103-45be-f385-df5e45c68ae2"
      },
      "execution_count": null,
      "outputs": [
        {
          "output_type": "stream",
          "name": "stdout",
          "text": [
            "El promedio de calificación en Tienda 01 es de 3.98 puntos.\n"
          ]
        }
      ]
    },
    {
      "cell_type": "code",
      "source": [
        "def promedio_calificacion_tienda02():\n",
        "  url = \"https://raw.githubusercontent.com/alura-es-cursos/challenge1-data-science-latam/refs/heads/main/base-de-datos-challenge1-latam/tienda_2.csv\"\n",
        "  df = pd.read_csv(\"https://raw.githubusercontent.com/alura-es-cursos/challenge1-data-science-latam/refs/heads/main/base-de-datos-challenge1-latam/tienda_2.csv\")\n",
        "\n",
        "  promedio = df[\"Calificación\"].mean()\n",
        "\n",
        "  return f\"El promedio de calificación en Tienda 02 es de {promedio:.2f} puntos.\""
      ],
      "metadata": {
        "id": "Y94PucPjVy_y"
      },
      "execution_count": null,
      "outputs": []
    },
    {
      "cell_type": "code",
      "source": [
        "print(promedio_calificacion_tienda02())"
      ],
      "metadata": {
        "id": "UgXYyhlLVzLY",
        "colab": {
          "base_uri": "https://localhost:8080/"
        },
        "outputId": "1a21edd0-4b25-43a8-a0bf-d59828ba48d5"
      },
      "execution_count": null,
      "outputs": [
        {
          "output_type": "stream",
          "name": "stdout",
          "text": [
            "El promedio de calificación en Tienda 02 es de 4.04 puntos.\n"
          ]
        }
      ]
    },
    {
      "cell_type": "code",
      "source": [
        "def promedio_calificacion_tienda03():\n",
        "  url = \"https://raw.githubusercontent.com/alura-es-cursos/challenge1-data-science-latam/refs/heads/main/base-de-datos-challenge1-latam/tienda_3.csv\"\n",
        "  df = pd.read_csv(\"https://raw.githubusercontent.com/alura-es-cursos/challenge1-data-science-latam/refs/heads/main/base-de-datos-challenge1-latam/tienda_3.csv\")\n",
        "\n",
        "  promedio = df[\"Calificación\"].mean()\n",
        "\n",
        "  return f\"El promedio de calificación en Tienda 03 es de {promedio:.2f} puntos.\""
      ],
      "metadata": {
        "id": "9qJY0_tGV06X"
      },
      "execution_count": null,
      "outputs": []
    },
    {
      "cell_type": "code",
      "source": [
        "print(promedio_calificacion_tienda03())"
      ],
      "metadata": {
        "id": "JnAA1eHvV3dP",
        "colab": {
          "base_uri": "https://localhost:8080/"
        },
        "outputId": "6a372b97-b69f-4178-90ab-7f7d914099f2"
      },
      "execution_count": null,
      "outputs": [
        {
          "output_type": "stream",
          "name": "stdout",
          "text": [
            "El promedio de calificación en Tienda 03 es de 4.05 puntos.\n"
          ]
        }
      ]
    },
    {
      "cell_type": "code",
      "source": [
        "def promedio_calificacion_tienda04():\n",
        "  url = \"https://raw.githubusercontent.com/alura-es-cursos/challenge1-data-science-latam/refs/heads/main/base-de-datos-challenge1-latam/tienda_4.csv\"\n",
        "  df = pd.read_csv(\"https://raw.githubusercontent.com/alura-es-cursos/challenge1-data-science-latam/refs/heads/main/base-de-datos-challenge1-latam/tienda_4.csv\")\n",
        "\n",
        "  promedio = df[\"Calificación\"].mean()\n",
        "\n",
        "  return f\"El promedio de calificación en Tienda 04 es de {promedio:.2f} puntos.\""
      ],
      "metadata": {
        "id": "yveliOrMV4WJ"
      },
      "execution_count": null,
      "outputs": []
    },
    {
      "cell_type": "code",
      "source": [
        "print(promedio_calificacion_tienda04())"
      ],
      "metadata": {
        "id": "0hlN2pUfV4mQ",
        "colab": {
          "base_uri": "https://localhost:8080/"
        },
        "outputId": "e5f19cc6-2b02-4040-c9d9-eb94697f58b9"
      },
      "execution_count": null,
      "outputs": [
        {
          "output_type": "stream",
          "name": "stdout",
          "text": [
            "El promedio de calificación en Tienda 04 es de 4.00 puntos.\n"
          ]
        }
      ]
    },
    {
      "cell_type": "code",
      "source": [
        "def mejor_promedio_calificacion():\n",
        "\n",
        "  url0l = \"https://raw.githubusercontent.com/alura-es-cursos/challenge1-data-science-latam/refs/heads/main/base-de-datos-challenge1-latam/tienda_1%20.csv\"\n",
        "  url02 = \"https://raw.githubusercontent.com/alura-es-cursos/challenge1-data-science-latam/refs/heads/main/base-de-datos-challenge1-latam/tienda_2.csv\"\n",
        "  url03 = \"https://raw.githubusercontent.com/alura-es-cursos/challenge1-data-science-latam/refs/heads/main/base-de-datos-challenge1-latam/tienda_3.csv\"\n",
        "  url04 = \"https://raw.githubusercontent.com/alura-es-cursos/challenge1-data-science-latam/refs/heads/main/base-de-datos-challenge1-latam/tienda_4.csv\"\n",
        "\n",
        "  df01 = pd.read_csv(\"https://raw.githubusercontent.com/alura-es-cursos/challenge1-data-science-latam/refs/heads/main/base-de-datos-challenge1-latam/tienda_1%20.csv\")\n",
        "  df02 = pd.read_csv(\"https://raw.githubusercontent.com/alura-es-cursos/challenge1-data-science-latam/refs/heads/main/base-de-datos-challenge1-latam/tienda_2.csv\")\n",
        "  df03 = pd.read_csv(\"https://raw.githubusercontent.com/alura-es-cursos/challenge1-data-science-latam/refs/heads/main/base-de-datos-challenge1-latam/tienda_3.csv\")\n",
        "  df04 = pd.read_csv(\"https://raw.githubusercontent.com/alura-es-cursos/challenge1-data-science-latam/refs/heads/main/base-de-datos-challenge1-latam/tienda_4.csv\")\n",
        "\n",
        "  prom01 = df01['Calificación'].mean()\n",
        "  prom02 = df02['Calificación'].mean()\n",
        "  prom03 = df03['Calificación'].mean()\n",
        "  prom04 = df04['Calificación'].mean()\n",
        "\n",
        "  promedios = {\n",
        "      'Tienda 01': prom01,\n",
        "      'Tienda 02': prom02,\n",
        "      'Tienda 03': prom03,\n",
        "      'Tienda 04': prom04,\n",
        "  }\n",
        "\n",
        "  mejor_tienda = max(promedios,key=promedios.get)\n",
        "\n",
        "  print(f\"La tienda con mejor promedio de calificación es:{mejor_tienda}({promedios[mejor_tienda]:.2f})\")\n",
        "\n",
        "\n",
        "\n",
        "\n",
        "\n"
      ],
      "metadata": {
        "id": "W9TasVrUV7wf"
      },
      "execution_count": null,
      "outputs": []
    },
    {
      "cell_type": "code",
      "source": [
        "mejor_promedio_calificacion()"
      ],
      "metadata": {
        "colab": {
          "base_uri": "https://localhost:8080/"
        },
        "id": "hqVHv3yO_ESQ",
        "outputId": "e51eabcc-5880-46e0-ff02-b8001030b8db"
      },
      "execution_count": null,
      "outputs": [
        {
          "output_type": "stream",
          "name": "stdout",
          "text": [
            "La tienda con mejor promedio de calificación es:Tienda 03(4.05)\n"
          ]
        }
      ]
    },
    {
      "cell_type": "code",
      "source": [],
      "metadata": {
        "id": "5SuLhq0s_PK_"
      },
      "execution_count": null,
      "outputs": []
    },
    {
      "cell_type": "code",
      "source": [],
      "metadata": {
        "id": "4mg9f0XS_5vL"
      },
      "execution_count": null,
      "outputs": []
    },
    {
      "cell_type": "markdown",
      "source": [
        "# 4. Productos más y menos vendidos"
      ],
      "metadata": {
        "id": "DmNp1KPBZCm-"
      }
    },
    {
      "cell_type": "code",
      "source": [
        "def productos_mas_menos_vendidos_tienda01():\n",
        "    url = \"https://raw.githubusercontent.com/alura-es-cursos/challenge1-data-science-latam/refs/heads/main/base-de-datos-challenge1-latam/tienda_1%20.csv\"\n",
        "    df = pd.read_csv(url)\n",
        "\n",
        "    conteo_productos = df[\"Producto\"].value_counts()\n",
        "    producto_mas_vendido = conteo_productos.idxmax()\n",
        "    cantidad_mas = conteo_productos.max()\n",
        "\n",
        "    producto_menos_vendido = conteo_productos.idxmin()\n",
        "    cantidad_menos = conteo_productos.min()\n",
        "\n",
        "    return f\"En Tienda 01, el producto más vendido fue '{producto_mas_vendido}' con {cantidad_mas} ventas, y el menos vendido fue '{producto_menos_vendido}' con {cantidad_menos} venta(s).\""
      ],
      "metadata": {
        "id": "qoyjqijQZHfF"
      },
      "execution_count": null,
      "outputs": []
    },
    {
      "cell_type": "code",
      "source": [
        "print(productos_mas_menos_vendidos_tienda01())"
      ],
      "metadata": {
        "id": "0Sw3sd4IZIGW",
        "colab": {
          "base_uri": "https://localhost:8080/"
        },
        "outputId": "d56bd02e-2ef4-4585-956c-e162a8b80a1c"
      },
      "execution_count": null,
      "outputs": [
        {
          "output_type": "stream",
          "name": "stdout",
          "text": [
            "En Tienda 01, el producto más vendido fue 'Microondas' con 60 ventas, y el menos vendido fue 'Auriculares con micrófono' con 33 venta(s).\n"
          ]
        }
      ]
    },
    {
      "cell_type": "code",
      "source": [
        "def productos_mas_menos_vendidos_tienda02():\n",
        "    url = \"https://raw.githubusercontent.com/alura-es-cursos/challenge1-data-science-latam/refs/heads/main/base-de-datos-challenge1-latam/tienda_2.csv\"\n",
        "    df = pd.read_csv(url)\n",
        "\n",
        "    conteo_productos = df[\"Producto\"].value_counts()\n",
        "    producto_mas_vendido = conteo_productos.idxmax()\n",
        "    cantidad_mas = conteo_productos.max()\n",
        "\n",
        "    producto_menos_vendido = conteo_productos.idxmin()\n",
        "    cantidad_menos = conteo_productos.min()\n",
        "\n",
        "    return f\"En Tienda 02, el producto más vendido fue '{producto_mas_vendido}' con {cantidad_mas} ventas, y el menos vendido fue '{producto_menos_vendido}' con {cantidad_menos} venta(s).\""
      ],
      "metadata": {
        "id": "57F5Xm3-FlXO"
      },
      "execution_count": null,
      "outputs": []
    },
    {
      "cell_type": "code",
      "source": [
        "print(productos_mas_menos_vendidos_tienda02())"
      ],
      "metadata": {
        "colab": {
          "base_uri": "https://localhost:8080/"
        },
        "id": "sX5ICQp-FlsK",
        "outputId": "0fa26ac6-dea9-401c-8c49-76e859f2c5b7"
      },
      "execution_count": null,
      "outputs": [
        {
          "output_type": "stream",
          "name": "stdout",
          "text": [
            "En Tienda 02, el producto más vendido fue 'Iniciando en programación' con 65 ventas, y el menos vendido fue 'Juego de mesa' con 32 venta(s).\n"
          ]
        }
      ]
    },
    {
      "cell_type": "code",
      "source": [
        "def productos_mas_menos_vendidos_tienda03():\n",
        "    url = \"https://raw.githubusercontent.com/alura-es-cursos/challenge1-data-science-latam/refs/heads/main/base-de-datos-challenge1-latam/tienda_3.csv\"\n",
        "    df = pd.read_csv(url)\n",
        "\n",
        "    conteo_productos = df[\"Producto\"].value_counts()\n",
        "    producto_mas_vendido = conteo_productos.idxmax()\n",
        "    cantidad_mas = conteo_productos.max()\n",
        "\n",
        "    producto_menos_vendido = conteo_productos.idxmin()\n",
        "    cantidad_menos = conteo_productos.min()\n",
        "\n",
        "    return f\"En Tienda 03, el producto más vendido fue '{producto_mas_vendido}' con {cantidad_mas} ventas, y el menos vendido fue '{producto_menos_vendido}' con {cantidad_menos} venta(s).\""
      ],
      "metadata": {
        "id": "-uCeZOb2Fm_v"
      },
      "execution_count": null,
      "outputs": []
    },
    {
      "cell_type": "code",
      "source": [
        "print(productos_mas_menos_vendidos_tienda03())"
      ],
      "metadata": {
        "colab": {
          "base_uri": "https://localhost:8080/"
        },
        "id": "0N3u9FHpFnZE",
        "outputId": "4bb9322c-b608-4548-d698-caa2527b748f"
      },
      "execution_count": null,
      "outputs": [
        {
          "output_type": "stream",
          "name": "stdout",
          "text": [
            "En Tienda 03, el producto más vendido fue 'Kit de bancas' con 57 ventas, y el menos vendido fue 'Bloques de construcción' con 35 venta(s).\n"
          ]
        }
      ]
    },
    {
      "cell_type": "code",
      "source": [
        "def productos_mas_menos_vendidos_tienda04():\n",
        "    url = \"https://raw.githubusercontent.com/alura-es-cursos/challenge1-data-science-latam/refs/heads/main/base-de-datos-challenge1-latam/tienda_4.csv\"\n",
        "    df = pd.read_csv(url)\n",
        "\n",
        "    conteo_productos = df[\"Producto\"].value_counts()\n",
        "    producto_mas_vendido = conteo_productos.idxmax()\n",
        "    cantidad_mas = conteo_productos.max()\n",
        "\n",
        "    producto_menos_vendido = conteo_productos.idxmin()\n",
        "    cantidad_menos = conteo_productos.min()\n",
        "\n",
        "    return f\"En Tienda 04, el producto más vendido fue '{producto_mas_vendido}' con {cantidad_mas} ventas, y el menos vendido fue '{producto_menos_vendido}' con {cantidad_menos} venta(s).\""
      ],
      "metadata": {
        "id": "p7aviC31Fnxr"
      },
      "execution_count": null,
      "outputs": []
    },
    {
      "cell_type": "code",
      "source": [
        "print(productos_mas_menos_vendidos_tienda04())"
      ],
      "metadata": {
        "colab": {
          "base_uri": "https://localhost:8080/"
        },
        "id": "n0tE5BH_FoDU",
        "outputId": "38c21f26-c3f2-476f-e4d4-0c9f476f55ae"
      },
      "execution_count": null,
      "outputs": [
        {
          "output_type": "stream",
          "name": "stdout",
          "text": [
            "En Tienda 04, el producto más vendido fue 'Cama box' con 62 ventas, y el menos vendido fue 'Guitarra eléctrica' con 33 venta(s).\n"
          ]
        }
      ]
    },
    {
      "cell_type": "code",
      "source": [],
      "metadata": {
        "id": "HlxjorSEFo_V"
      },
      "execution_count": null,
      "outputs": []
    },
    {
      "cell_type": "markdown",
      "source": [
        "# 5. Envío promedio por tienda"
      ],
      "metadata": {
        "id": "Fl0cGi3bZKqU"
      }
    },
    {
      "cell_type": "code",
      "source": [
        "def costo_promedio_envio_tienda01 ():\n",
        "  url = \"https://raw.githubusercontent.com/alura-es-cursos/challenge1-data-science-latam/refs/heads/main/base-de-datos-challenge1-latam/tienda_1%20.csv\"\n",
        "  df = pd.read_csv(url)\n",
        "\n",
        "  promedio = df[\"Costo de envío\"]. mean()\n",
        "\n",
        "  return f\"El costo promedio de envío en Tienda 01 es de {promedio:.2f}\""
      ],
      "metadata": {
        "id": "S2JeaCykZNy9"
      },
      "execution_count": null,
      "outputs": []
    },
    {
      "cell_type": "code",
      "source": [
        "print(costo_promedio_envio_tienda01())"
      ],
      "metadata": {
        "id": "0tSdCie9ZQlt",
        "colab": {
          "base_uri": "https://localhost:8080/"
        },
        "outputId": "f1bd3238-d897-474f-c7b8-093731a77fa7"
      },
      "execution_count": null,
      "outputs": [
        {
          "output_type": "stream",
          "name": "stdout",
          "text": [
            "El costo promedio de envío en Tienda 01 es de 26018.61\n"
          ]
        }
      ]
    },
    {
      "cell_type": "code",
      "source": [
        "def costo_promedio_envio_tienda02 ():\n",
        "  url = \"https://raw.githubusercontent.com/alura-es-cursos/challenge1-data-science-latam/refs/heads/main/base-de-datos-challenge1-latam/tienda_2.csv\"\n",
        "  df = pd.read_csv(url)\n",
        "\n",
        "  promedio = df[\"Costo de envío\"]. mean()\n",
        "\n",
        "  return f\"El costo promedio de envío en Tienda 02 es de {promedio:.2f}\""
      ],
      "metadata": {
        "id": "rXfRB-cJIedQ"
      },
      "execution_count": null,
      "outputs": []
    },
    {
      "cell_type": "code",
      "source": [
        "print(costo_promedio_envio_tienda02())"
      ],
      "metadata": {
        "id": "ODvSTkzMIe6o",
        "colab": {
          "base_uri": "https://localhost:8080/"
        },
        "outputId": "7c89a33b-938c-4715-ddf7-fc146d78be1c"
      },
      "execution_count": null,
      "outputs": [
        {
          "output_type": "stream",
          "name": "stdout",
          "text": [
            "El costo promedio de envío en Tienda 02 es de 25216.24\n"
          ]
        }
      ]
    },
    {
      "cell_type": "code",
      "source": [
        "def costo_promedio_envio_tienda03 ():\n",
        "  url = \"https://raw.githubusercontent.com/alura-es-cursos/challenge1-data-science-latam/refs/heads/main/base-de-datos-challenge1-latam/tienda_3.csv\"\n",
        "  df = pd.read_csv(url)\n",
        "\n",
        "  promedio = df[\"Costo de envío\"]. mean()\n",
        "\n",
        "  return f\"El costo promedio de envío en Tienda 03 es de {promedio:.2f}\""
      ],
      "metadata": {
        "id": "5eGH0-aSIfOM"
      },
      "execution_count": null,
      "outputs": []
    },
    {
      "cell_type": "code",
      "source": [
        "print(costo_promedio_envio_tienda03())"
      ],
      "metadata": {
        "id": "IN4YYaLGIfkz",
        "colab": {
          "base_uri": "https://localhost:8080/"
        },
        "outputId": "93b8685d-b405-49fd-b0c4-a01c402dd685"
      },
      "execution_count": null,
      "outputs": [
        {
          "output_type": "stream",
          "name": "stdout",
          "text": [
            "El costo promedio de envío en Tienda 03 es de 24805.68\n"
          ]
        }
      ]
    },
    {
      "cell_type": "code",
      "source": [
        "def costo_promedio_envio_tienda04 ():\n",
        "  url = \"https://raw.githubusercontent.com/alura-es-cursos/challenge1-data-science-latam/refs/heads/main/base-de-datos-challenge1-latam/tienda_4.csv\"\n",
        "  df = pd.read_csv(url)\n",
        "\n",
        "  promedio = df[\"Costo de envío\"]. mean()\n",
        "\n",
        "  return f\"El costo promedio de envío en Tienda 04 es de {promedio:.2f}\""
      ],
      "metadata": {
        "id": "9rb5xGSBIgXc"
      },
      "execution_count": null,
      "outputs": []
    },
    {
      "cell_type": "code",
      "source": [
        "print(costo_promedio_envio_tienda04())"
      ],
      "metadata": {
        "id": "os8oJ96KIirH",
        "colab": {
          "base_uri": "https://localhost:8080/"
        },
        "outputId": "f279c267-088b-44ca-9911-3bb5d474b91a"
      },
      "execution_count": null,
      "outputs": [
        {
          "output_type": "stream",
          "name": "stdout",
          "text": [
            "El costo promedio de envío en Tienda 04 es de 23459.46\n"
          ]
        }
      ]
    },
    {
      "cell_type": "code",
      "source": [
        "def promedio_envio_tiendas():\n",
        "    # URLs de cada tienda\n",
        "    url1 = \"https://raw.githubusercontent.com/alura-es-cursos/challenge1-data-science-latam/main/base-de-datos-challenge1-latam/tienda_1%20.csv\"\n",
        "    url2 = \"https://raw.githubusercontent.com/alura-es-cursos/challenge1-data-science-latam/main/base-de-datos-challenge1-latam/tienda_2.csv\"\n",
        "    url3 = \"https://raw.githubusercontent.com/alura-es-cursos/challenge1-data-science-latam/main/base-de-datos-challenge1-latam/tienda_3.csv\"\n",
        "    url4 = \"https://raw.githubusercontent.com/alura-es-cursos/challenge1-data-science-latam/main/base-de-datos-challenge1-latam/tienda_4.csv\"\n",
        "\n",
        "    # Cargar los datos\n",
        "    df1 = pd.read_csv(url1)\n",
        "    df2 = pd.read_csv(url2)\n",
        "    df3 = pd.read_csv(url3)\n",
        "    df4 = pd.read_csv(url4)\n",
        "\n",
        "    # Calcular promedios\n",
        "    promedios = {\n",
        "        \"Tienda 01\": df1[\"Costo de envío\"].mean(),\n",
        "        \"Tienda 02\": df2[\"Costo de envío\"].mean(),\n",
        "        \"Tienda 03\": df3[\"Costo de envío\"].mean(),\n",
        "        \"Tienda 04\": df4[\"Costo de envío\"].mean(),\n",
        "    }\n",
        "\n",
        "    # Ordenar de mayor a menor\n",
        "    promedios_ordenados = dict(sorted(promedios.items(), key=lambda x: x[1], reverse=True))\n",
        "\n",
        "    # Mostrar resultados\n",
        "    for tienda, promedio in promedios_ordenados.items():\n",
        "        print(f\"{tienda}: ${promedio:.2f}\")"
      ],
      "metadata": {
        "id": "JxYy41K-IjPk"
      },
      "execution_count": null,
      "outputs": []
    },
    {
      "cell_type": "code",
      "source": [
        "print(promedio_envio_tiendas())"
      ],
      "metadata": {
        "colab": {
          "base_uri": "https://localhost:8080/"
        },
        "id": "lIUnueHNJfDa",
        "outputId": "d38769ee-7be9-4152-98d8-c81f85bb6b4e"
      },
      "execution_count": null,
      "outputs": [
        {
          "output_type": "stream",
          "name": "stdout",
          "text": [
            "Tienda 01: $26018.61\n",
            "Tienda 02: $25216.24\n",
            "Tienda 03: $24805.68\n",
            "Tienda 04: $23459.46\n",
            "None\n"
          ]
        }
      ]
    },
    {
      "cell_type": "code",
      "source": [
        "def grafico_promedio_envio():\n",
        "    # URLs\n",
        "    url1 = \"https://raw.githubusercontent.com/alura-es-cursos/challenge1-data-science-latam/main/base-de-datos-challenge1-latam/tienda_1%20.csv\"\n",
        "    url2 = \"https://raw.githubusercontent.com/alura-es-cursos/challenge1-data-science-latam/main/base-de-datos-challenge1-latam/tienda_2.csv\"\n",
        "    url3 = \"https://raw.githubusercontent.com/alura-es-cursos/challenge1-data-science-latam/main/base-de-datos-challenge1-latam/tienda_3.csv\"\n",
        "    url4 = \"https://raw.githubusercontent.com/alura-es-cursos/challenge1-data-science-latam/main/base-de-datos-challenge1-latam/tienda_4.csv\"\n",
        "\n",
        "    # Leer los datos\n",
        "    df1 = pd.read_csv(url1)\n",
        "    df2 = pd.read_csv(url2)\n",
        "    df3 = pd.read_csv(url3)\n",
        "    df4 = pd.read_csv(url4)\n",
        "\n",
        "    # Calcular promedios\n",
        "    promedios = {\n",
        "        \"Tienda 01\": df1[\"Costo de envío\"].mean(),\n",
        "        \"Tienda 02\": df2[\"Costo de envío\"].mean(),\n",
        "        \"Tienda 03\": df3[\"Costo de envío\"].mean(),\n",
        "        \"Tienda 04\": df4[\"Costo de envío\"].mean(),\n",
        "    }\n",
        "\n",
        "    # Ordenar\n",
        "    promedios_ordenados = dict(sorted(promedios.items(), key=lambda x: x[1], reverse=True))\n",
        "\n",
        "    # Datos para gráfico\n",
        "    tiendas = list(promedios_ordenados.keys())\n",
        "    costos = list(promedios_ordenados.values())\n",
        "\n",
        "    # Gráfico\n",
        "    plt.figure(figsize=(8, 5))\n",
        "    sns.barplot(x=tiendas, y=costos, palette=\"Purples_r\")\n",
        "    plt.title(\"Costo promedio de envío por tienda\")\n",
        "    plt.xlabel(\"Tiendas\")\n",
        "    plt.ylabel(\"Costo promedio ($)\")\n",
        "    plt.show()"
      ],
      "metadata": {
        "id": "yZ-qiufFJ3x6"
      },
      "execution_count": null,
      "outputs": []
    },
    {
      "cell_type": "code",
      "source": [
        "print(grafico_promedio_envio())"
      ],
      "metadata": {
        "colab": {
          "base_uri": "https://localhost:8080/",
          "height": 612
        },
        "id": "I15JBkySKHKx",
        "outputId": "30f581ce-ed72-4386-cca0-54b39b4f0a40"
      },
      "execution_count": null,
      "outputs": [
        {
          "output_type": "stream",
          "name": "stderr",
          "text": [
            "<ipython-input-11-1d6fbf6425b9>:31: FutureWarning: \n",
            "\n",
            "Passing `palette` without assigning `hue` is deprecated and will be removed in v0.14.0. Assign the `x` variable to `hue` and set `legend=False` for the same effect.\n",
            "\n",
            "  sns.barplot(x=tiendas, y=costos, palette=\"Purples_r\")\n"
          ]
        },
        {
          "output_type": "display_data",
          "data": {
            "text/plain": [
              "<Figure size 800x500 with 1 Axes>"
            ],
            "image/png": "[encoded data removed]"
          },
          "metadata": {}
        },
        {
          "output_type": "stream",
          "name": "stdout",
          "text": [
            "None\n"
          ]
        }
      ]
    },
    {
      "cell_type": "markdown",
      "source": [],
      "metadata": {
        "id": "7eCB6cA5N385"
      }
    },
    {
      "cell_type": "markdown",
      "source": [
        "Al analizar las cinco areas claves de las tiendas, puedo llegar a la siguiente conclusion:\n",
        "\n",
        "1- FACTURACIÓN\n",
        "Podemos observar que la tienda con mayor facturación es la número 01, la que tiene menor facturación es la tienda número 04. Las tiendas  02 y 03 no llevan mucha difencia con la 01, pero la 04 lleva bastante diferenci a pesar de tener un alto volumen de ventas en su producto principal. La rentabilidad no solo esta relacionada a la cantidad de productos vendidos, sino que también al valor unitario de los mismos.\n",
        "\n",
        "2- CATEGORÍAS MÁS POPULARES\n",
        "En todas las tiendas, la categoria \"muebles\" fue la más vendida. La tienda 02 es la que menos vendió y la tienda 03 es la que más vendió. Esto no afectó a la tienda 02 ya que su nvel de facturación es muy bueno, no está lejos de la tienda 01.\n",
        "\n",
        "3- PROMEDIO DE CALIFOCACIÓN DE LOS CLIENTES\n",
        "Todas las tiendas tienen un buen promedio en su calificación, quiere decir que la atención y la experiencia del cliente son muy buenas. La tienda 03 tiene mejor calificacion , la tienda 01 tiene la más baja calificación.\n",
        "\n",
        "4- PRODUCTOS MÁS Y MENOS VENDIDOS\n",
        "Aquí podemos observar que la tienda que vendió más unidades es la tienda 04, con 62 cama box. y la tienda 01 vendio 60 microondas. A pesar de esto, la facturación más baja es de la tienda 04. El tipo de producto influye más que la cantidad, está relacionado con el precio.\n",
        "\n",
        "4- COSTO DE ENVÍO\n",
        "No hay mucha diferencia en los costos, el más alto es de la tienda 01 y el más bajo es de la tienda 04. Ahora, aunque es el más alto , está relacionado con la cantidad de facturación. El costo de la tienda 04 es bajo, sí, pero es bastate caro si lo relaciono con el nivel de facturacion, esto reduce su rentabilidad.\n",
        "\n",
        "EN CONCLUSION, la tienda 04 puede tener problemas de eficiencia logística, las ventas no son efectivas (devoluciones, descuentos altos, etc), vender productos muy baratos o errores en la estrategía de precios o promociones. Es por esto que tiene una menor cantidad de facturacón, mucho menor a la que tiene mayor facturacón. Lo recomendable es vender la tienda 04, ya que es la menos rentable."
      ],
      "metadata": {
        "id": "Wyej4QL71RQn"
      }
    }
  ]
}